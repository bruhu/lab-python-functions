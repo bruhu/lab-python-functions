{
 "cells": [
  {
   "cell_type": "markdown",
   "id": "25d7736c-ba17-4aff-b6bb-66eba20fbf4e",
   "metadata": {},
   "source": [
    "# Lab | Functions"
   ]
  },
  {
   "cell_type": "markdown",
   "id": "0c581062-8967-4d93-b06e-62833222f930",
   "metadata": {
    "tags": []
   },
   "source": [
    "## Exercise: Managing Customer Orders with Functions\n",
    "\n",
    "In the previous exercise, you improved the code for managing customer orders by using loops and flow control. Now, let's take it a step further and refactor the code by introducing functions.\n",
    "\n",
    "Follow the steps below to complete the exercise:\n",
    "\n",
    "1. Define a function named `initialize_inventory` that takes `products` as a parameter. Inside the function, implement the code for initializing the inventory dictionary using a loop and user input.\n",
    "\n",
    "2. Define a function named `get_customer_orders` that takes no parameters. Inside the function, implement the code for prompting the user to enter the product names using a loop. The function should return the `customer_orders` set.\n",
    "\n",
    "3. Define a function named `update_inventory` that takes `customer_orders` and `inventory` as parameters. Inside the function, implement the code for updating the inventory dictionary based on the customer orders.\n",
    "\n",
    "4. Define a function named `calculate_order_statistics` that takes `customer_orders` and `products` as parameters. Inside the function, implement the code for calculating the order statistics (total products ordered, and percentage of unique products ordered). The function should return these values.\n",
    "\n",
    "5. Define a function named `print_order_statistics` that takes `order_statistics` as a parameter. Inside the function, implement the code for printing the order statistics.\n",
    "\n",
    "6. Define a function named `print_updated_inventory` that takes `inventory` as a parameter. Inside the function, implement the code for printing the updated inventory.\n",
    "\n",
    "7. Call the functions in the appropriate sequence to execute the program and manage customer orders.\n",
    "\n",
    "Hints for functions:\n",
    "\n",
    "- Consider the input parameters required for each function and their return values.\n",
    "- Utilize function parameters and return values to transfer data between functions.\n",
    "- Test your functions individually to ensure they work correctly.\n",
    "\n",
    "\n"
   ]
  },
  {
   "cell_type": "markdown",
   "id": "be42965b-d6fd-4515-a47f-02f1860e1d7d",
   "metadata": {},
   "source": [
    "1. Define a function named initialize_inventory that takes products as a parameter. Inside the function, implement the code for initializing the inventory dictionary using a loop and user input."
   ]
  },
  {
   "cell_type": "code",
   "execution_count": 28,
   "id": "7ffd411a-dbee-44d7-8876-06a0f5eeab6a",
   "metadata": {},
   "outputs": [
    {
     "name": "stdin",
     "output_type": "stream",
     "text": [
      "Type the product you would like to add to the inventory:  coffee\n",
      "How many coffee are there available? 23\n",
      "Would you like to add another product to the inventory? [yes/no] yes\n",
      "Type the product you would like to add to the inventory:  potatoes\n",
      "How many potatoes are there available? 1234\n",
      "Would you like to add another product to the inventory? [yes/no] yes\n",
      "Type the product you would like to add to the inventory:  flour\n",
      "How many flour are there available? 234\n",
      "Would you like to add another product to the inventory? [yes/no] yes\n",
      "Type the product you would like to add to the inventory:  pasta\n",
      "How many pasta are there available? 90802\n",
      "Would you like to add another product to the inventory? [yes/no] yes\n",
      "Type the product you would like to add to the inventory:  milk\n",
      "How many milk are there available? 92384\n",
      "Would you like to add another product to the inventory? [yes/no] yes\n",
      "Type the product you would like to add to the inventory:  tea\n",
      "How many tea are there available? 22\n",
      "Would you like to add another product to the inventory? [yes/no] no\n"
     ]
    },
    {
     "name": "stdout",
     "output_type": "stream",
     "text": [
      "{'coffee': 23, 'potatoes': 1234, 'flour': 234, 'pasta': 90802, 'milk': 92384, 'tea': 22}\n"
     ]
    }
   ],
   "source": [
    "inventory = {}\n",
    "\n",
    "def initialize_inventory():\n",
    "    while True:\n",
    "        product = input(\"Type the product you would like to add to the inventory: \")\n",
    "        amount = input(f\"How many {product} are there available?\")\n",
    "        inventory[product] = int(amount)\n",
    "        add_product = input(\"Would you like to add another product to the inventory? [yes/no]\").strip().lower()\n",
    "        if add_product != \"yes\":\n",
    "            break\n",
    "    print(inventory)\n",
    "\n",
    "initialize_inventory()    "
   ]
  },
  {
   "cell_type": "markdown",
   "id": "9e0b4e6a-d343-4786-aeaf-81694776afc2",
   "metadata": {},
   "source": [
    "2. Define a function named get_customer_orders that takes no parameters. Inside the function, implement the code for prompting the user to enter the product names using a loop. The function should return the customer_orders set."
   ]
  },
  {
   "cell_type": "code",
   "execution_count": 30,
   "id": "a865011c-bd63-4cd0-9dae-52ffa9f64461",
   "metadata": {},
   "outputs": [
    {
     "name": "stdin",
     "output_type": "stream",
     "text": [
      "What do you want to order? tea\n",
      "Would you like to add another product to the shopping cart? [yes/no] yes\n",
      "What do you want to order? milk\n",
      "Would you like to add another product to the shopping cart? [yes/no] yes\n",
      "What do you want to order? potatoes\n",
      "Would you like to add another product to the shopping cart? [yes/no] no\n"
     ]
    },
    {
     "name": "stdout",
     "output_type": "stream",
     "text": [
      "Costumer order: {'milk', 'tea', 'potatoes'}\n"
     ]
    }
   ],
   "source": [
    "customer_orders = set()\n",
    "\n",
    "def get_customer_orders():\n",
    "    while True:\n",
    "        order = input(\"What do you want to order?\")\n",
    "        customer_orders.add(order) \n",
    "        add_product = input(\"Would you like to add another product to the shopping cart? [yes/no]\").strip().lower()\n",
    "        if add_product != \"yes\":\n",
    "            break    \n",
    "            \n",
    "get_customer_orders()    \n",
    "print(\"Costumer order:\", customer_orders)"
   ]
  },
  {
   "cell_type": "markdown",
   "id": "59a0653f-efc3-4af4-90d2-ef805dbd24b2",
   "metadata": {},
   "source": [
    "3. Define a function named update_inventory that takes customer_orders and inventory as parameters. Inside the function, implement the code for updating the inventory dictionary based on the customer orders."
   ]
  },
  {
   "cell_type": "code",
   "execution_count": 56,
   "id": "850096d3-af6b-48f3-88cb-3bf4d36bcdd6",
   "metadata": {},
   "outputs": [
    {
     "name": "stdout",
     "output_type": "stream",
     "text": [
      "Item apple\n",
      "Item banana\n",
      "Item orange\n",
      "Item coffee\n",
      "This item is not in the inventory: coffee\n",
      "Customer order: {'apple': 3, 'banana': 2, 'orange': 5, 'coffee': 1} \n",
      "Inventory: {'apple': 10, 'banana': 5, 'orange': 3, 'grape': 7}\n"
     ]
    }
   ],
   "source": [
    "def update_inventory():\n",
    "    for item in customer_orders:\n",
    "        print(\"Item\", item)\n",
    "        if item in inventory:\n",
    "            inventory[item] - 1\n",
    "        else:\n",
    "            print(f\"This item is not in the inventory: {item}\")\n",
    "\n",
    "update_inventory()\n",
    "print(\"Customer order:\", customer_orders, \"\\nInventory:\", inventory)"
   ]
  },
  {
   "cell_type": "markdown",
   "id": "1a5e8c5e-3c86-479d-95ad-ef3559324f49",
   "metadata": {},
   "source": [
    "4. Define a function named calculate_order_statistics that takes customer_orders and products as parameters. Inside the function, implement the code for calculating the order statistics (total products ordered, and percentage of unique products ordered). The function should return these values."
   ]
  },
  {
   "cell_type": "code",
   "execution_count": null,
   "id": "0846c00a-bddf-43b9-93e0-3995be8d55f6",
   "metadata": {},
   "outputs": [],
   "source": []
  },
  {
   "cell_type": "markdown",
   "id": "a793d918-d9e2-4ebd-b927-007068a1def7",
   "metadata": {},
   "source": [
    "5. Define a function named print_order_statistics that takes order_statistics as a parameter. Inside the function, implement the code for printing the order statistics."
   ]
  },
  {
   "cell_type": "code",
   "execution_count": null,
   "id": "10b3ac72-4d1f-4d2d-93c7-2c05d8edfb6d",
   "metadata": {},
   "outputs": [],
   "source": []
  },
  {
   "cell_type": "markdown",
   "id": "e02e481c-8a75-4cff-b626-9c4289fbe0a8",
   "metadata": {},
   "source": [
    "6. Define a function named print_updated_inventory that takes inventory as a parameter. Inside the function, implement the code for printing the updated inventory."
   ]
  },
  {
   "cell_type": "code",
   "execution_count": null,
   "id": "a76e5272-a913-43b0-803b-5d3ad637a675",
   "metadata": {},
   "outputs": [],
   "source": []
  },
  {
   "cell_type": "markdown",
   "id": "faa8cb56-4e96-499e-befa-0654e9dba2fc",
   "metadata": {},
   "source": [
    "7. Call the functions in the appropriate sequence to execute the program and manage customer orders."
   ]
  },
  {
   "cell_type": "code",
   "execution_count": null,
   "id": "c535c2ee-24f5-457c-abe0-cde57423debc",
   "metadata": {},
   "outputs": [],
   "source": []
  }
 ],
 "metadata": {
  "kernelspec": {
   "display_name": "Python 3 (ipykernel)",
   "language": "python",
   "name": "python3"
  },
  "language_info": {
   "codemirror_mode": {
    "name": "ipython",
    "version": 3
   },
   "file_extension": ".py",
   "mimetype": "text/x-python",
   "name": "python",
   "nbconvert_exporter": "python",
   "pygments_lexer": "ipython3",
   "version": "3.12.2"
  }
 },
 "nbformat": 4,
 "nbformat_minor": 5
}
