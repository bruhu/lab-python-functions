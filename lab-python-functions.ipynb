{
 "cells": [
  {
   "cell_type": "markdown",
   "id": "25d7736c-ba17-4aff-b6bb-66eba20fbf4e",
   "metadata": {},
   "source": [
    "# Lab | Functions"
   ]
  },
  {
   "cell_type": "markdown",
   "id": "0c581062-8967-4d93-b06e-62833222f930",
   "metadata": {
    "tags": []
   },
   "source": [
    "## Exercise: Managing Customer Orders with Functions\n",
    "\n",
    "In the previous exercise, you improved the code for managing customer orders by using loops and flow control. Now, let's take it a step further and refactor the code by introducing functions.\n",
    "\n",
    "Follow the steps below to complete the exercise:\n",
    "\n",
    "1. Define a function named `initialize_inventory` that takes `products` as a parameter. Inside the function, implement the code for initializing the inventory dictionary using a loop and user input.\n",
    "\n",
    "2. Define a function named `get_customer_orders` that takes no parameters. Inside the function, implement the code for prompting the user to enter the product names using a loop. The function should return the `customer_orders` set.\n",
    "\n",
    "3. Define a function named `update_inventory` that takes `customer_orders` and `inventory` as parameters. Inside the function, implement the code for updating the inventory dictionary based on the customer orders.\n",
    "\n",
    "4. Define a function named `calculate_order_statistics` that takes `customer_orders` and `products` as parameters. Inside the function, implement the code for calculating the order statistics (total products ordered, and percentage of unique products ordered). The function should return these values.\n",
    "\n",
    "5. Define a function named `print_order_statistics` that takes `order_statistics` as a parameter. Inside the function, implement the code for printing the order statistics.\n",
    "\n",
    "6. Define a function named `print_updated_inventory` that takes `inventory` as a parameter. Inside the function, implement the code for printing the updated inventory.\n",
    "\n",
    "7. Call the functions in the appropriate sequence to execute the program and manage customer orders.\n",
    "\n",
    "Hints for functions:\n",
    "\n",
    "- Consider the input parameters required for each function and their return values.\n",
    "- Utilize function parameters and return values to transfer data between functions.\n",
    "- Test your functions individually to ensure they work correctly.\n",
    "\n",
    "\n"
   ]
  },
  {
   "cell_type": "markdown",
   "id": "be42965b-d6fd-4515-a47f-02f1860e1d7d",
   "metadata": {},
   "source": [
    "1. Define a function named initialize_inventory that takes products as a parameter. Inside the function, implement the code for initializing the inventory dictionary using a loop and user input."
   ]
  },
  {
   "cell_type": "code",
   "execution_count": 55,
   "id": "7ffd411a-dbee-44d7-8876-06a0f5eeab6a",
   "metadata": {},
   "outputs": [],
   "source": [
    "inventory = {}\n",
    "\n",
    "def initialize_inventory():\n",
    "    while True:\n",
    "        product = input(\"Type the product you would like to add to the inventory: \")\n",
    "        amount = input(f\"How many {product} are there available?\")\n",
    "        inventory[product] = int(amount)\n",
    "        add_product = input(\"Would you like to add another product to the inventory? [yes/no]\").strip().lower()\n",
    "        if add_product != \"yes\":\n",
    "            break\n",
    "    print(inventory)\n",
    "\n",
    "#initialize_inventory()"
   ]
  },
  {
   "cell_type": "markdown",
   "id": "9e0b4e6a-d343-4786-aeaf-81694776afc2",
   "metadata": {},
   "source": [
    "2. Define a function named get_customer_orders that takes no parameters. Inside the function, implement the code for prompting the user to enter the product names using a loop. The function should return the customer_orders set."
   ]
  },
  {
   "cell_type": "code",
   "execution_count": 58,
   "id": "a865011c-bd63-4cd0-9dae-52ffa9f64461",
   "metadata": {},
   "outputs": [],
   "source": [
    "customer_orders = set()\n",
    "\n",
    "def get_customer_orders():\n",
    "    while True:\n",
    "        order = input(\"What do you want to order?\")\n",
    "        customer_orders.add(order) \n",
    "        add_product = input(\"Would you like to add another product to the shopping cart? [yes/no]\").strip().lower()\n",
    "        if add_product != \"yes\":\n",
    "            break    \n",
    "            \n",
    "# get_customer_orders()    \n",
    "# print(\"Costumer order:\", customer_orders)"
   ]
  },
  {
   "cell_type": "markdown",
   "id": "59a0653f-efc3-4af4-90d2-ef805dbd24b2",
   "metadata": {},
   "source": [
    "3. Define a function named update_inventory that takes customer_orders and inventory as parameters. Inside the function, implement the code for updating the inventory dictionary based on the customer orders."
   ]
  },
  {
   "cell_type": "code",
   "execution_count": 61,
   "id": "850096d3-af6b-48f3-88cb-3bf4d36bcdd6",
   "metadata": {},
   "outputs": [],
   "source": [
    "def update_inventory():\n",
    "    for item in customer_orders:\n",
    "        if item in inventory:\n",
    "            inventory[item] - 1\n",
    "        else:\n",
    "            print(f\"This item is not in the inventory: {item}\")\n",
    "\n",
    "# update_inventory()\n",
    "# print(\"Customer order:\", customer_orders, \"\\nInventory:\", inventory)"
   ]
  },
  {
   "cell_type": "markdown",
   "id": "1a5e8c5e-3c86-479d-95ad-ef3559324f49",
   "metadata": {},
   "source": [
    "4. Define a function named calculate_order_statistics that takes customer_orders and products as parameters. Inside the function, implement the code for calculating the order statistics (total products ordered, and percentage of unique products ordered). The function should return these values."
   ]
  },
  {
   "cell_type": "code",
   "execution_count": 110,
   "id": "a9b0d117-e62f-4e76-9fbf-148b70e9d41f",
   "metadata": {},
   "outputs": [],
   "source": [
    "# customer_orders = {\n",
    "#     'apple': 3,\n",
    "#     'banana': 2,\n",
    "#     'orange': 5\n",
    "# }\n",
    "\n",
    "# products = {\n",
    "#     'apple': 10,\n",
    "#     'banana': 5,\n",
    "#     'orange': 3,\n",
    "#     'grape': 7,\n",
    "#     'mango': 4\n",
    "# }\n",
    "def calculate_order_statistics(customer_orders):\n",
    "    total_products = len(customer_orders)\n",
    "    unique_products = len(set(customer_orders))\n",
    "    if total_products > 0:\n",
    "        unique_product_percentage = (unique_products / total_products) * 100\n",
    "    else:\n",
    "        unique_product_percentage = 0\n",
    "\n",
    "    return total_products, unique_product_percentage"
   ]
  },
  {
   "cell_type": "markdown",
   "id": "a793d918-d9e2-4ebd-b927-007068a1def7",
   "metadata": {},
   "source": [
    "5. Define a function named print_order_statistics that takes order_statistics as a parameter. Inside the function, implement the code for printing the order statistics."
   ]
  },
  {
   "cell_type": "code",
   "execution_count": 113,
   "id": "10b3ac72-4d1f-4d2d-93c7-2c05d8edfb6d",
   "metadata": {},
   "outputs": [],
   "source": [
    "def print_order_statistics(order_statistics):\n",
    "    total_products, unique_product_percentage = order_statistics\n",
    "    print(f\"Total products order: {total_products}, Percentage of unique products ordered: {unique_product_percentage}%\")\n",
    "\n",
    "# print_order_statistics(order_statistics)"
   ]
  },
  {
   "cell_type": "markdown",
   "id": "e02e481c-8a75-4cff-b626-9c4289fbe0a8",
   "metadata": {},
   "source": [
    "6. Define a function named print_updated_inventory that takes inventory as a parameter. Inside the function, implement the code for printing the updated inventory."
   ]
  },
  {
   "cell_type": "code",
   "execution_count": 116,
   "id": "a76e5272-a913-43b0-803b-5d3ad637a675",
   "metadata": {},
   "outputs": [
    {
     "name": "stdout",
     "output_type": "stream",
     "text": [
      "\n",
      "Product: Apples \n",
      "Quantity: 234\n",
      "\n",
      "Product: Oranges \n",
      "Quantity: 3904\n",
      "\n",
      "Product: Bananas \n",
      "Quantity: 3209\n",
      "\n",
      "Product: Coffee \n",
      "Quantity: 32\n",
      "\n",
      "Product: Milk \n",
      "Quantity: 494\n",
      "\n",
      "Product: Apple \n",
      "Quantity: 23\n",
      "\n",
      "Product: Bread \n",
      "Quantity: 3\n",
      "\n",
      "Product: Tissues \n",
      "Quantity: 1\n"
     ]
    }
   ],
   "source": [
    "def print_updated_inventory(inventory):\n",
    "    # print(\"Updated inventory:\\n\")\n",
    "    for product, quantity in inventory.items():\n",
    "        print(f\"\\nProduct: {product.capitalize()} \\nQuantity: {quantity}\")\n",
    "\n",
    "# print_updated_inventory(inventory)"
   ]
  },
  {
   "cell_type": "markdown",
   "id": "faa8cb56-4e96-499e-befa-0654e9dba2fc",
   "metadata": {},
   "source": [
    "7. Call the functions in the appropriate sequence to execute the program and manage customer orders."
   ]
  },
  {
   "cell_type": "code",
   "execution_count": 121,
   "id": "c535c2ee-24f5-457c-abe0-cde57423debc",
   "metadata": {},
   "outputs": [
    {
     "name": "stdin",
     "output_type": "stream",
     "text": [
      "Type the product you would like to add to the inventory:  t\n",
      "How many t are there available? 6\n",
      "Would you like to add another product to the inventory? [yes/no] no\n"
     ]
    },
    {
     "name": "stdout",
     "output_type": "stream",
     "text": [
      "{'apples': 234, 'oranges': 3904, 'bananas': 3209, 'coffee': 32, 'milk': 494, 'apple': 23, 'bread': 3, 'tissues': 1, 'l': 9, 't': 6}\n"
     ]
    },
    {
     "name": "stdin",
     "output_type": "stream",
     "text": [
      "What do you want to order? oranges\n",
      "Would you like to add another product to the shopping cart? [yes/no] no\n"
     ]
    },
    {
     "name": "stdout",
     "output_type": "stream",
     "text": [
      "This item is not in the inventory: 12\n",
      "This item is not in the inventory: tea\n",
      "This item is not in the inventory: pa\n",
      "Total products order: 10, Percentage of unique products ordered: 60.0%\n",
      "\n",
      "Product: Apples \n",
      "Quantity: 234\n",
      "\n",
      "Product: Oranges \n",
      "Quantity: 3904\n",
      "\n",
      "Product: Bananas \n",
      "Quantity: 3209\n",
      "\n",
      "Product: Coffee \n",
      "Quantity: 32\n",
      "\n",
      "Product: Milk \n",
      "Quantity: 494\n",
      "\n",
      "Product: Apple \n",
      "Quantity: 23\n",
      "\n",
      "Product: Bread \n",
      "Quantity: 3\n",
      "\n",
      "Product: Tissues \n",
      "Quantity: 1\n",
      "\n",
      "Product: L \n",
      "Quantity: 9\n",
      "\n",
      "Product: T \n",
      "Quantity: 6\n"
     ]
    }
   ],
   "source": [
    "#1\n",
    "initialize_inventory()\n",
    "\n",
    "#2\n",
    "get_customer_orders()\n",
    "\n",
    "#3\n",
    "update_inventory()\n",
    "\n",
    "#4\n",
    "calculate_order_statistics(customer_orders)\n",
    "\n",
    "#5\n",
    "print_order_statistics(order_statistics)\n",
    "\n",
    "#6\n",
    "print_updated_inventory(inventory)"
   ]
  }
 ],
 "metadata": {
  "kernelspec": {
   "display_name": "Python 3 (ipykernel)",
   "language": "python",
   "name": "python3"
  },
  "language_info": {
   "codemirror_mode": {
    "name": "ipython",
    "version": 3
   },
   "file_extension": ".py",
   "mimetype": "text/x-python",
   "name": "python",
   "nbconvert_exporter": "python",
   "pygments_lexer": "ipython3",
   "version": "3.12.2"
  }
 },
 "nbformat": 4,
 "nbformat_minor": 5
}
